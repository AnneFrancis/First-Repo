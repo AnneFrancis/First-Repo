{
 "cells": [
  {
   "cell_type": "markdown",
   "metadata": {},
   "source": [
    "# Print Objects"
   ]
  },
  {
   "cell_type": "code",
   "execution_count": null,
   "metadata": {},
   "outputs": [],
   "source": [
    "print(\"hello world\")"
   ]
  },
  {
   "cell_type": "markdown",
   "metadata": {},
   "source": [
    "# Variables & Data Types"
   ]
  },
  {
   "cell_type": "code",
   "execution_count": null,
   "metadata": {},
   "outputs": [],
   "source": [
    "# Variable to store data in (e.g. Name, age, etc.) to easily change it \n",
    "# first assign a name to the variable: \n",
    "\n",
    "character_name = \"John\"  # Storing as “String\" = plain text as a data type \n",
    "print (\"There was a man named \" + character_name + \", \")\n",
    "\n",
    "character_age = \"35\"  # without \"\" it will be a numbers variable: int or float \n",
    "print (\"He was \" + character_age + \"years old.\")\n",
    "\n",
    "is_male = False  # Boolean: True/False \n",
    "print(is_male)\n",
    "\n",
    "#variables can be modified throughout the story / program"
   ]
  },
  {
   "cell_type": "markdown",
   "metadata": {},
   "source": [
    "# Strings"
   ]
  },
  {
   "cell_type": "code",
   "execution_count": null,
   "metadata": {},
   "outputs": [],
   "source": [
    "print(\"Giraffe\\nAcademy\") # will separate and print text in two lines\n",
    "print(\"Giraffe \\\"Academy\") # to print out a quotation mark \n",
    "\n",
    "phrase = \"Annes Python Class\"\n",
    "print(phrase)\n",
    "\n",
    "# Concatination: to add on strings on other variable\n",
    "print (phrase + \" is cool\") \n",
    "\n",
    "# Functions: \n",
    "phrase = \"Giraffe Academy\"\n",
    "print(phrase.lower()) # will convert all characters in string variable into lower cases    \n",
    "print(phrase.upper()) # will convert all characters in string variable into upper cases    \n",
    "print(phrase.isupper()) # will tell us if the string variable only contains upper cases  \n",
    "print(phrase.upper().isupper()) # will first transform all into upper cases and then tell true of false if all is upper case\n",
    "print(len(phrase)) # to get the lengths of the string (number of characters)    \n",
    "print(phrase[0]) # will print the character of the string variable asked for. we start counting at 0!  \n",
    "print(phrase.index(\"i\")) # index function will give back the index at which the character is mentioned within the string variable. if two or more characters it will give back the first index   \n",
    "print(phrase.index(\"Acad\")) # if a whole word or part of a word is asked for, it will give back the index where it starts. if not found in variable, error message \n",
    "\n"
   ]
  },
  {
   "cell_type": "markdown",
   "metadata": {},
   "source": [
    "# Numbers"
   ]
  },
  {
   "cell_type": "code",
   "execution_count": null,
   "metadata": {},
   "outputs": [],
   "source": []
  },
  {
   "cell_type": "markdown",
   "metadata": {},
   "source": [
    "# Pandas"
   ]
  },
  {
   "cell_type": "code",
   "execution_count": 2,
   "metadata": {},
   "outputs": [],
   "source": [
    "#importing libaries\n",
    "\n",
    "import numpy as np\n",
    "import pandas as pd\n",
    "import matplotlib.pyplot as plt\n",
    "\n",
    "%matplotlib inline"
   ]
  },
  {
   "cell_type": "markdown",
   "metadata": {},
   "source": [
    "## creating a new Data Frame"
   ]
  },
  {
   "cell_type": "code",
   "execution_count": 10,
   "metadata": {},
   "outputs": [
    {
     "data": {
      "text/html": [
       "<div>\n",
       "<style scoped>\n",
       "    .dataframe tbody tr th:only-of-type {\n",
       "        vertical-align: middle;\n",
       "    }\n",
       "\n",
       "    .dataframe tbody tr th {\n",
       "        vertical-align: top;\n",
       "    }\n",
       "\n",
       "    .dataframe thead th {\n",
       "        text-align: right;\n",
       "    }\n",
       "</style>\n",
       "<table border=\"1\" class=\"dataframe\">\n",
       "  <thead>\n",
       "    <tr style=\"text-align: right;\">\n",
       "      <th></th>\n",
       "      <th>A</th>\n",
       "      <th>B</th>\n",
       "      <th>C</th>\n",
       "      <th>D</th>\n",
       "    </tr>\n",
       "  </thead>\n",
       "  <tbody>\n",
       "    <tr>\n",
       "      <th>0</th>\n",
       "      <td>-0.357419</td>\n",
       "      <td>-1.372332</td>\n",
       "      <td>2.858714</td>\n",
       "      <td>0.441416</td>\n",
       "    </tr>\n",
       "    <tr>\n",
       "      <th>1</th>\n",
       "      <td>0.677200</td>\n",
       "      <td>1.097663</td>\n",
       "      <td>-0.879621</td>\n",
       "      <td>-0.394334</td>\n",
       "    </tr>\n",
       "    <tr>\n",
       "      <th>2</th>\n",
       "      <td>0.534373</td>\n",
       "      <td>0.008802</td>\n",
       "      <td>1.213714</td>\n",
       "      <td>0.615534</td>\n",
       "    </tr>\n",
       "    <tr>\n",
       "      <th>3</th>\n",
       "      <td>1.366615</td>\n",
       "      <td>0.160999</td>\n",
       "      <td>1.003401</td>\n",
       "      <td>-1.615455</td>\n",
       "    </tr>\n",
       "    <tr>\n",
       "      <th>4</th>\n",
       "      <td>-1.545548</td>\n",
       "      <td>-1.268111</td>\n",
       "      <td>0.914282</td>\n",
       "      <td>0.222772</td>\n",
       "    </tr>\n",
       "    <tr>\n",
       "      <th>5</th>\n",
       "      <td>0.048368</td>\n",
       "      <td>-0.873320</td>\n",
       "      <td>1.009343</td>\n",
       "      <td>1.213068</td>\n",
       "    </tr>\n",
       "  </tbody>\n",
       "</table>\n",
       "</div>"
      ],
      "text/plain": [
       "          A         B         C         D\n",
       "0 -0.357419 -1.372332  2.858714  0.441416\n",
       "1  0.677200  1.097663 -0.879621 -0.394334\n",
       "2  0.534373  0.008802  1.213714  0.615534\n",
       "3  1.366615  0.160999  1.003401 -1.615455\n",
       "4 -1.545548 -1.268111  0.914282  0.222772\n",
       "5  0.048368 -0.873320  1.009343  1.213068"
      ]
     },
     "execution_count": 10,
     "metadata": {},
     "output_type": "execute_result"
    }
   ],
   "source": [
    "#creating a new Data Frame\n",
    "df = pd.DataFrame(np.random.randn(6, 4), columns=list('ABCD'))\n",
    "df"
   ]
  },
  {
   "cell_type": "code",
   "execution_count": 11,
   "metadata": {},
   "outputs": [
    {
     "data": {
      "text/plain": [
       "DatetimeIndex(['2013-01-01', '2013-01-02', '2013-01-03', '2013-01-04',\n",
       "               '2013-01-05', '2013-01-06'],\n",
       "              dtype='datetime64[ns]', freq='D')"
      ]
     },
     "execution_count": 11,
     "metadata": {},
     "output_type": "execute_result"
    }
   ],
   "source": [
    "#if index should be a set date, then: \n",
    "dates = pd.date_range('20130101', periods=6)\n",
    "\n",
    "dates"
   ]
  },
  {
   "cell_type": "code",
   "execution_count": 14,
   "metadata": {},
   "outputs": [
    {
     "data": {
      "text/html": [
       "<div>\n",
       "<style scoped>\n",
       "    .dataframe tbody tr th:only-of-type {\n",
       "        vertical-align: middle;\n",
       "    }\n",
       "\n",
       "    .dataframe tbody tr th {\n",
       "        vertical-align: top;\n",
       "    }\n",
       "\n",
       "    .dataframe thead th {\n",
       "        text-align: right;\n",
       "    }\n",
       "</style>\n",
       "<table border=\"1\" class=\"dataframe\">\n",
       "  <thead>\n",
       "    <tr style=\"text-align: right;\">\n",
       "      <th></th>\n",
       "      <th>A</th>\n",
       "      <th>B</th>\n",
       "      <th>C</th>\n",
       "      <th>D</th>\n",
       "    </tr>\n",
       "  </thead>\n",
       "  <tbody>\n",
       "    <tr>\n",
       "      <th>2013-01-01</th>\n",
       "      <td>-0.365989</td>\n",
       "      <td>-0.137934</td>\n",
       "      <td>-0.107419</td>\n",
       "      <td>-2.004223</td>\n",
       "    </tr>\n",
       "    <tr>\n",
       "      <th>2013-01-02</th>\n",
       "      <td>-1.706922</td>\n",
       "      <td>1.015919</td>\n",
       "      <td>0.880075</td>\n",
       "      <td>0.065852</td>\n",
       "    </tr>\n",
       "    <tr>\n",
       "      <th>2013-01-03</th>\n",
       "      <td>1.731211</td>\n",
       "      <td>-0.487879</td>\n",
       "      <td>-0.250304</td>\n",
       "      <td>1.608972</td>\n",
       "    </tr>\n",
       "    <tr>\n",
       "      <th>2013-01-04</th>\n",
       "      <td>-0.670195</td>\n",
       "      <td>1.041050</td>\n",
       "      <td>-0.063215</td>\n",
       "      <td>-1.871757</td>\n",
       "    </tr>\n",
       "    <tr>\n",
       "      <th>2013-01-05</th>\n",
       "      <td>-0.281522</td>\n",
       "      <td>-0.749174</td>\n",
       "      <td>-0.451759</td>\n",
       "      <td>0.217433</td>\n",
       "    </tr>\n",
       "    <tr>\n",
       "      <th>2013-01-06</th>\n",
       "      <td>-0.585076</td>\n",
       "      <td>0.872762</td>\n",
       "      <td>-0.648946</td>\n",
       "      <td>-2.089193</td>\n",
       "    </tr>\n",
       "  </tbody>\n",
       "</table>\n",
       "</div>"
      ],
      "text/plain": [
       "                   A         B         C         D\n",
       "2013-01-01 -0.365989 -0.137934 -0.107419 -2.004223\n",
       "2013-01-02 -1.706922  1.015919  0.880075  0.065852\n",
       "2013-01-03  1.731211 -0.487879 -0.250304  1.608972\n",
       "2013-01-04 -0.670195  1.041050 -0.063215 -1.871757\n",
       "2013-01-05 -0.281522 -0.749174 -0.451759  0.217433\n",
       "2013-01-06 -0.585076  0.872762 -0.648946 -2.089193"
      ]
     },
     "execution_count": 14,
     "metadata": {},
     "output_type": "execute_result"
    }
   ],
   "source": [
    "#DatetimeIndex(['2013-01-01', '2013-01-02', '2013-01-03', '2013-01-04','2013-01-05', '2013-01-06'], dtype='datetime64[ns]', freq='D')\n",
    "\n",
    "df_2 = pd.DataFrame(np.random.randn(6, 4), index=dates, columns=list('ABCD'))\n",
    "df_2"
   ]
  },
  {
   "cell_type": "markdown",
   "metadata": {},
   "source": [
    "## Importing Data"
   ]
  },
  {
   "cell_type": "code",
   "execution_count": null,
   "metadata": {},
   "outputs": [],
   "source": [
    "#variable_name = pd.read_csv('Insert folder and name of csv file if safed in same folder as notebook', parse_dates=['Date'])\n",
    "\n",
    "#variable_name = pd.read_csv('data/sales_data.csv', parse_dates=['Date'])"
   ]
  }
 ],
 "metadata": {
  "kernelspec": {
   "display_name": "Python 3",
   "language": "python",
   "name": "python3"
  },
  "language_info": {
   "codemirror_mode": {
    "name": "ipython",
    "version": 3
   },
   "file_extension": ".py",
   "mimetype": "text/x-python",
   "name": "python",
   "nbconvert_exporter": "python",
   "pygments_lexer": "ipython3",
   "version": "3.8.3"
  }
 },
 "nbformat": 4,
 "nbformat_minor": 4
}
